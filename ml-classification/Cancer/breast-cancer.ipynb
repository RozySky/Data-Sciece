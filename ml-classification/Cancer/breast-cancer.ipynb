{
 "cells": [
  {
   "cell_type": "code",
   "execution_count": 3,
   "metadata": {},
   "outputs": [],
   "source": [
    "import sklearn\n",
    "from sklearn.neighbors import KNeighborsClassifier\n",
    "import pandas as pd\n",
    "import numpy as np\n",
    "from sklearn import preprocessing\n",
    "from sklearn import svm\n",
    "import matplotlib.pyplot as plt\n",
    "from matplotlib import style\n",
    "style.use('ggplot')"
   ]
  },
  {
   "cell_type": "code",
   "execution_count": 4,
   "metadata": {},
   "outputs": [],
   "source": [
    "data = pd.read_csv('model/breast-cancer.data')\n",
    "\n",
    "modl = preprocessing.LabelEncoder()\n",
    "\n",
    "class_f = modl.fit_transform(list(data['class']))\n",
    "age = modl.fit_transform(list(data['age']))\n",
    "menopause = modl.fit_transform(list(data['menopause']))\n",
    "tumor_size = modl.fit_transform(list(data['tumor-size']))\n",
    "inv_nodes = modl.fit_transform(list(data['inv-nodes']))\n",
    "node_caps = modl.fit_transform(list(data['node-caps']))\n",
    "deg_f = modl.fit_transform(list(data['dag-malig']))\n",
    "breast = modl.fit_transform(list(data['breast']))\n",
    "breast_quad = modl.fit_transform(list(data['breast-quad']))\n",
    "irradiat = modl.fit_transform(list(data['irradiat']))"
   ]
  },
  {
   "cell_type": "code",
   "execution_count": 5,
   "metadata": {},
   "outputs": [],
   "source": [
    "X_Axis = list(zip(age,menopause, tumor_size, inv_nodes, node_caps, deg_f, breast, breast_quad, irradiat))\n",
    "Y_Axis = list(class_f)"
   ]
  },
  {
   "cell_type": "code",
   "execution_count": 6,
   "metadata": {},
   "outputs": [],
   "source": [
    "x_train,x_test,y_train,y_test = sklearn.model_selection.train_test_split(X_Axis, Y_Axis, test_size=0.1)"
   ]
  },
  {
   "cell_type": "code",
   "execution_count": 7,
   "metadata": {},
   "outputs": [
    {
     "name": "stdout",
     "output_type": "stream",
     "text": [
      "0.4827586206896552\n"
     ]
    }
   ],
   "source": [
    "KN = KNeighborsClassifier(n_neighbors=11)\n",
    "KN.fit(x_train, y_train)\n",
    "acc = KN.score(x_test, y_test)\n",
    "print(acc)"
   ]
  },
  {
   "cell_type": "code",
   "execution_count": 8,
   "metadata": {},
   "outputs": [
    {
     "name": "stdout",
     "output_type": "stream",
     "text": [
      "0.5862068965517241\n"
     ]
    }
   ],
   "source": [
    "SVM = svm.SVC(kernel='linear')\n",
    "SVM.fit(x_train, y_train)\n",
    "predictions = SVM.predict(x_test)\n",
    "acc = sklearn.metrics.accuracy_score(predictions, y_test)\n",
    "print(acc)"
   ]
  },
  {
   "cell_type": "code",
   "execution_count": 9,
   "metadata": {},
   "outputs": [
    {
     "name": "stdout",
     "output_type": "stream",
     "text": [
      "no-recurrence-events  Actual:  recurrence-events\n",
      "recurrence-events  Actual:  recurrence-events\n",
      "recurrence-events  Actual:  recurrence-events\n",
      "no-recurrence-events  Actual:  no-recurrence-events\n",
      "no-recurrence-events  Actual:  recurrence-events\n",
      "no-recurrence-events  Actual:  no-recurrence-events\n",
      "no-recurrence-events  Actual:  recurrence-events\n",
      "no-recurrence-events  Actual:  recurrence-events\n",
      "no-recurrence-events  Actual:  no-recurrence-events\n",
      "no-recurrence-events  Actual:  recurrence-events\n",
      "recurrence-events  Actual:  recurrence-events\n",
      "no-recurrence-events  Actual:  no-recurrence-events\n",
      "no-recurrence-events  Actual:  no-recurrence-events\n",
      "no-recurrence-events  Actual:  no-recurrence-events\n",
      "recurrence-events  Actual:  no-recurrence-events\n",
      "recurrence-events  Actual:  recurrence-events\n",
      "no-recurrence-events  Actual:  no-recurrence-events\n",
      "no-recurrence-events  Actual:  no-recurrence-events\n",
      "recurrence-events  Actual:  no-recurrence-events\n",
      "no-recurrence-events  Actual:  no-recurrence-events\n",
      "recurrence-events  Actual:  recurrence-events\n",
      "no-recurrence-events  Actual:  recurrence-events\n",
      "no-recurrence-events  Actual:  no-recurrence-events\n",
      "recurrence-events  Actual:  no-recurrence-events\n",
      "no-recurrence-events  Actual:  recurrence-events\n",
      "no-recurrence-events  Actual:  no-recurrence-events\n",
      "no-recurrence-events  Actual:  no-recurrence-events\n",
      "no-recurrence-events  Actual:  recurrence-events\n",
      "no-recurrence-events  Actual:  recurrence-events\n"
     ]
    },
    {
     "data": {
      "image/png": "[encoded data removed]",
      "text/plain": [
       "<Figure size 432x288 with 1 Axes>"
      ]
     },
     "metadata": {},
     "output_type": "display_data"
    }
   ],
   "source": [
    "hunter = ['no-recurrence-events', 'recurrence-events']\n",
    "for i in range(len(predictions)):\n",
    "    print(hunter[predictions[i]], ' Actual: ', hunter[y_test[i]])\n",
    "\n",
    "plt.scatter(data['age'], data['class'])\n",
    "plt.show()"
   ]
  },
  {
   "cell_type": "code",
   "execution_count": 10,
   "metadata": {
    "scrolled": true
   },
   "outputs": [],
   "source": [
    "%%capture\n",
    "\"\"\"\n",
    "As we can see when we use Support Vector Machine We can't Get much accuracy in Result and machine Makes Mistakes\n",
    "Hence we will use the algorithm KNeighborsClassifier to Classify The Data Now Compare Data Above (SVM) & Below Ignore\n",
    "Representaion.\n",
    "\n",
    "\"\"\""
   ]
  },
  {
   "cell_type": "code",
   "execution_count": 11,
   "metadata": {},
   "outputs": [
    {
     "name": "stdout",
     "output_type": "stream",
     "text": [
      "no-recurrence-events Acutal Case(Result):  recurrence-events\n",
      "recurrence-events Acutal Case(Result):  recurrence-events\n",
      "no-recurrence-events Acutal Case(Result):  recurrence-events\n",
      "no-recurrence-events Acutal Case(Result):  no-recurrence-events\n",
      "no-recurrence-events Acutal Case(Result):  recurrence-events\n",
      "no-recurrence-events Acutal Case(Result):  no-recurrence-events\n",
      "no-recurrence-events Acutal Case(Result):  recurrence-events\n",
      "no-recurrence-events Acutal Case(Result):  recurrence-events\n",
      "no-recurrence-events Acutal Case(Result):  no-recurrence-events\n",
      "no-recurrence-events Acutal Case(Result):  recurrence-events\n",
      "no-recurrence-events Acutal Case(Result):  recurrence-events\n",
      "no-recurrence-events Acutal Case(Result):  no-recurrence-events\n",
      "no-recurrence-events Acutal Case(Result):  no-recurrence-events\n",
      "no-recurrence-events Acutal Case(Result):  no-recurrence-events\n",
      "recurrence-events Acutal Case(Result):  no-recurrence-events\n",
      "no-recurrence-events Acutal Case(Result):  recurrence-events\n",
      "recurrence-events Acutal Case(Result):  no-recurrence-events\n",
      "no-recurrence-events Acutal Case(Result):  no-recurrence-events\n",
      "no-recurrence-events Acutal Case(Result):  no-recurrence-events\n",
      "no-recurrence-events Acutal Case(Result):  no-recurrence-events\n",
      "no-recurrence-events Acutal Case(Result):  recurrence-events\n",
      "no-recurrence-events Acutal Case(Result):  recurrence-events\n",
      "no-recurrence-events Acutal Case(Result):  no-recurrence-events\n",
      "recurrence-events Acutal Case(Result):  no-recurrence-events\n",
      "no-recurrence-events Acutal Case(Result):  recurrence-events\n",
      "no-recurrence-events Acutal Case(Result):  no-recurrence-events\n",
      "no-recurrence-events Acutal Case(Result):  no-recurrence-events\n",
      "no-recurrence-events Acutal Case(Result):  recurrence-events\n",
      "recurrence-events Acutal Case(Result):  recurrence-events\n"
     ]
    }
   ],
   "source": [
    "knpredict = KN.predict(x_test)\n",
    "for i in range(len(knpredict)):\n",
    "    print(hunter[knpredict[i]], 'Acutal Case(Result): ', hunter[y_test[i]])"
   ]
  },
  {
   "cell_type": "code",
   "execution_count": 12,
   "metadata": {},
   "outputs": [],
   "source": [
    "%%capture\n",
    "\"\"\"\n",
    "By Using KNN we have better result.\n",
    "\"\"\""
   ]
  },
  {
   "cell_type": "code",
   "execution_count": 25,
   "metadata": {},
   "outputs": [],
   "source": [
    "%%capture\n",
    "\"\"\"\n",
    ":) - Love the people who change the world.\n",
    "\"\"\""
   ]
  },
  {
   "cell_type": "code",
   "execution_count": null,
   "metadata": {},
   "outputs": [],
   "source": []
  }
 ],
 "metadata": {
  "kernelspec": {
   "display_name": "Python 3",
   "language": "python",
   "name": "python3"
  },
  "language_info": {
   "codemirror_mode": {
    "name": "ipython",
    "version": 3
   },
   "file_extension": ".py",
   "mimetype": "text/x-python",
   "name": "python",
   "nbconvert_exporter": "python",
   "pygments_lexer": "ipython3",
   "version": "3.7.6"
  }
 },
 "nbformat": 4,
 "nbformat_minor": 4
}
